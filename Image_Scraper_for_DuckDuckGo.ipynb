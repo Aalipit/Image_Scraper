{
  "nbformat": 4,
  "nbformat_minor": 0,
  "metadata": {
    "colab": {
      "provenance": [],
      "include_colab_link": true
    },
    "kernelspec": {
      "name": "python3",
      "display_name": "Python 3"
    },
    "language_info": {
      "name": "python"
    }
  },
  "cells": [
    {
      "cell_type": "markdown",
      "metadata": {
        "id": "view-in-github",
        "colab_type": "text"
      },
      "source": [
        "<a href=\"https://colab.research.google.com/github/Aalipit/Image_Scraper/blob/main/Image_Scraper_for_DuckDuckGo.ipynb\" target=\"_parent\"><img src=\"https://colab.research.google.com/assets/colab-badge.svg\" alt=\"Open In Colab\"/></a>"
      ]
    },
    {
      "cell_type": "markdown",
      "source": [
        "# **Sample Image Scraper**\n",
        "\n",
        "This is a sample code for a image scraper that specifically grabs images from the search engine \"DuckDuckGo\". It showcases how you can use a library or package to easily import the tools you will need in order to scrape data from a website.\n",
        "\n",
        "You can find the original documentation for the library here: https://joedockrill.github.io/jmd_imagescraper/\n",
        "\n",
        "This Google Colab file goes over the basic code required and elaborates on the process. **Make sure you click \"File\" > \"Save a Copy in Drive\" before making any modifications or running the code below.**"
      ],
      "metadata": {
        "id": "YJDuAoiUNy4S"
      }
    },
    {
      "cell_type": "markdown",
      "source": [
        "\n",
        "\n",
        "---\n",
        "\n"
      ],
      "metadata": {
        "id": "ToPmlOpZC-wu"
      }
    },
    {
      "cell_type": "markdown",
      "source": [
        "**The first step is to import the library or package into our Python directory.** When installing libraries locally on your own system you make use of the command line or a tool like conda. In our case, since we are using Google Colab, we can just type the command here."
      ],
      "metadata": {
        "id": "wGj6BYFfOrqq"
      }
    },
    {
      "cell_type": "code",
      "source": [
        "!pip install jmd_imagescraper"
      ],
      "metadata": {
        "colab": {
          "base_uri": "https://localhost:8080/"
        },
        "id": "OEGZFZWOOrBS",
        "outputId": "cb8dfa7b-b276-4316-ed58-4ebce215b0f3"
      },
      "execution_count": null,
      "outputs": [
        {
          "output_type": "stream",
          "name": "stdout",
          "text": [
            "Collecting jmd_imagescraper\n",
            "  Downloading jmd_imagescraper-1.0.2-py3-none-any.whl (12 kB)\n",
            "Requirement already satisfied: Pillow in /usr/local/lib/python3.10/dist-packages (from jmd_imagescraper) (9.4.0)\n",
            "Collecting bs4 (from jmd_imagescraper)\n",
            "  Downloading bs4-0.0.2-py2.py3-none-any.whl (1.2 kB)\n",
            "Requirement already satisfied: fastprogress in /usr/local/lib/python3.10/dist-packages (from jmd_imagescraper) (1.0.3)\n",
            "Requirement already satisfied: ipywidgets in /usr/local/lib/python3.10/dist-packages (from jmd_imagescraper) (7.7.1)\n",
            "Requirement already satisfied: pandas in /usr/local/lib/python3.10/dist-packages (from jmd_imagescraper) (1.5.3)\n",
            "Requirement already satisfied: pathlib in /usr/local/lib/python3.10/dist-packages (from jmd_imagescraper) (1.0.1)\n",
            "Requirement already satisfied: requests in /usr/local/lib/python3.10/dist-packages (from jmd_imagescraper) (2.31.0)\n",
            "Requirement already satisfied: beautifulsoup4 in /usr/local/lib/python3.10/dist-packages (from bs4->jmd_imagescraper) (4.12.3)\n",
            "Requirement already satisfied: ipykernel>=4.5.1 in /usr/local/lib/python3.10/dist-packages (from ipywidgets->jmd_imagescraper) (5.5.6)\n",
            "Requirement already satisfied: ipython-genutils~=0.2.0 in /usr/local/lib/python3.10/dist-packages (from ipywidgets->jmd_imagescraper) (0.2.0)\n",
            "Requirement already satisfied: traitlets>=4.3.1 in /usr/local/lib/python3.10/dist-packages (from ipywidgets->jmd_imagescraper) (5.7.1)\n",
            "Requirement already satisfied: widgetsnbextension~=3.6.0 in /usr/local/lib/python3.10/dist-packages (from ipywidgets->jmd_imagescraper) (3.6.6)\n",
            "Requirement already satisfied: ipython>=4.0.0 in /usr/local/lib/python3.10/dist-packages (from ipywidgets->jmd_imagescraper) (7.34.0)\n",
            "Requirement already satisfied: jupyterlab-widgets>=1.0.0 in /usr/local/lib/python3.10/dist-packages (from ipywidgets->jmd_imagescraper) (3.0.10)\n",
            "Requirement already satisfied: python-dateutil>=2.8.1 in /usr/local/lib/python3.10/dist-packages (from pandas->jmd_imagescraper) (2.8.2)\n",
            "Requirement already satisfied: pytz>=2020.1 in /usr/local/lib/python3.10/dist-packages (from pandas->jmd_imagescraper) (2023.4)\n",
            "Requirement already satisfied: numpy>=1.21.0 in /usr/local/lib/python3.10/dist-packages (from pandas->jmd_imagescraper) (1.25.2)\n",
            "Requirement already satisfied: charset-normalizer<4,>=2 in /usr/local/lib/python3.10/dist-packages (from requests->jmd_imagescraper) (3.3.2)\n",
            "Requirement already satisfied: idna<4,>=2.5 in /usr/local/lib/python3.10/dist-packages (from requests->jmd_imagescraper) (3.6)\n",
            "Requirement already satisfied: urllib3<3,>=1.21.1 in /usr/local/lib/python3.10/dist-packages (from requests->jmd_imagescraper) (2.0.7)\n",
            "Requirement already satisfied: certifi>=2017.4.17 in /usr/local/lib/python3.10/dist-packages (from requests->jmd_imagescraper) (2024.2.2)\n",
            "Requirement already satisfied: jupyter-client in /usr/local/lib/python3.10/dist-packages (from ipykernel>=4.5.1->ipywidgets->jmd_imagescraper) (6.1.12)\n",
            "Requirement already satisfied: tornado>=4.2 in /usr/local/lib/python3.10/dist-packages (from ipykernel>=4.5.1->ipywidgets->jmd_imagescraper) (6.3.2)\n",
            "Requirement already satisfied: setuptools>=18.5 in /usr/local/lib/python3.10/dist-packages (from ipython>=4.0.0->ipywidgets->jmd_imagescraper) (67.7.2)\n",
            "Collecting jedi>=0.16 (from ipython>=4.0.0->ipywidgets->jmd_imagescraper)\n",
            "  Downloading jedi-0.19.1-py2.py3-none-any.whl (1.6 MB)\n",
            "\u001b[2K     \u001b[90m━━━━━━━━━━━━━━━━━━━━━━━━━━━━━━━━━━━━━━━━\u001b[0m \u001b[32m1.6/1.6 MB\u001b[0m \u001b[31m9.5 MB/s\u001b[0m eta \u001b[36m0:00:00\u001b[0m\n",
            "\u001b[?25hRequirement already satisfied: decorator in /usr/local/lib/python3.10/dist-packages (from ipython>=4.0.0->ipywidgets->jmd_imagescraper) (4.4.2)\n",
            "Requirement already satisfied: pickleshare in /usr/local/lib/python3.10/dist-packages (from ipython>=4.0.0->ipywidgets->jmd_imagescraper) (0.7.5)\n",
            "Requirement already satisfied: prompt-toolkit!=3.0.0,!=3.0.1,<3.1.0,>=2.0.0 in /usr/local/lib/python3.10/dist-packages (from ipython>=4.0.0->ipywidgets->jmd_imagescraper) (3.0.43)\n",
            "Requirement already satisfied: pygments in /usr/local/lib/python3.10/dist-packages (from ipython>=4.0.0->ipywidgets->jmd_imagescraper) (2.16.1)\n",
            "Requirement already satisfied: backcall in /usr/local/lib/python3.10/dist-packages (from ipython>=4.0.0->ipywidgets->jmd_imagescraper) (0.2.0)\n",
            "Requirement already satisfied: matplotlib-inline in /usr/local/lib/python3.10/dist-packages (from ipython>=4.0.0->ipywidgets->jmd_imagescraper) (0.1.6)\n",
            "Requirement already satisfied: pexpect>4.3 in /usr/local/lib/python3.10/dist-packages (from ipython>=4.0.0->ipywidgets->jmd_imagescraper) (4.9.0)\n",
            "Requirement already satisfied: six>=1.5 in /usr/local/lib/python3.10/dist-packages (from python-dateutil>=2.8.1->pandas->jmd_imagescraper) (1.16.0)\n",
            "Requirement already satisfied: notebook>=4.4.1 in /usr/local/lib/python3.10/dist-packages (from widgetsnbextension~=3.6.0->ipywidgets->jmd_imagescraper) (6.5.5)\n",
            "Requirement already satisfied: soupsieve>1.2 in /usr/local/lib/python3.10/dist-packages (from beautifulsoup4->bs4->jmd_imagescraper) (2.5)\n",
            "Requirement already satisfied: parso<0.9.0,>=0.8.3 in /usr/local/lib/python3.10/dist-packages (from jedi>=0.16->ipython>=4.0.0->ipywidgets->jmd_imagescraper) (0.8.3)\n",
            "Requirement already satisfied: jinja2 in /usr/local/lib/python3.10/dist-packages (from notebook>=4.4.1->widgetsnbextension~=3.6.0->ipywidgets->jmd_imagescraper) (3.1.3)\n",
            "Requirement already satisfied: pyzmq<25,>=17 in /usr/local/lib/python3.10/dist-packages (from notebook>=4.4.1->widgetsnbextension~=3.6.0->ipywidgets->jmd_imagescraper) (23.2.1)\n",
            "Requirement already satisfied: argon2-cffi in /usr/local/lib/python3.10/dist-packages (from notebook>=4.4.1->widgetsnbextension~=3.6.0->ipywidgets->jmd_imagescraper) (23.1.0)\n",
            "Requirement already satisfied: jupyter-core>=4.6.1 in /usr/local/lib/python3.10/dist-packages (from notebook>=4.4.1->widgetsnbextension~=3.6.0->ipywidgets->jmd_imagescraper) (5.7.1)\n",
            "Requirement already satisfied: nbformat in /usr/local/lib/python3.10/dist-packages (from notebook>=4.4.1->widgetsnbextension~=3.6.0->ipywidgets->jmd_imagescraper) (5.9.2)\n",
            "Requirement already satisfied: nbconvert>=5 in /usr/local/lib/python3.10/dist-packages (from notebook>=4.4.1->widgetsnbextension~=3.6.0->ipywidgets->jmd_imagescraper) (6.5.4)\n",
            "Requirement already satisfied: nest-asyncio>=1.5 in /usr/local/lib/python3.10/dist-packages (from notebook>=4.4.1->widgetsnbextension~=3.6.0->ipywidgets->jmd_imagescraper) (1.6.0)\n",
            "Requirement already satisfied: Send2Trash>=1.8.0 in /usr/local/lib/python3.10/dist-packages (from notebook>=4.4.1->widgetsnbextension~=3.6.0->ipywidgets->jmd_imagescraper) (1.8.2)\n",
            "Requirement already satisfied: terminado>=0.8.3 in /usr/local/lib/python3.10/dist-packages (from notebook>=4.4.1->widgetsnbextension~=3.6.0->ipywidgets->jmd_imagescraper) (0.18.0)\n",
            "Requirement already satisfied: prometheus-client in /usr/local/lib/python3.10/dist-packages (from notebook>=4.4.1->widgetsnbextension~=3.6.0->ipywidgets->jmd_imagescraper) (0.20.0)\n",
            "Requirement already satisfied: nbclassic>=0.4.7 in /usr/local/lib/python3.10/dist-packages (from notebook>=4.4.1->widgetsnbextension~=3.6.0->ipywidgets->jmd_imagescraper) (1.0.0)\n",
            "Requirement already satisfied: ptyprocess>=0.5 in /usr/local/lib/python3.10/dist-packages (from pexpect>4.3->ipython>=4.0.0->ipywidgets->jmd_imagescraper) (0.7.0)\n",
            "Requirement already satisfied: wcwidth in /usr/local/lib/python3.10/dist-packages (from prompt-toolkit!=3.0.0,!=3.0.1,<3.1.0,>=2.0.0->ipython>=4.0.0->ipywidgets->jmd_imagescraper) (0.2.13)\n",
            "Requirement already satisfied: platformdirs>=2.5 in /usr/local/lib/python3.10/dist-packages (from jupyter-core>=4.6.1->notebook>=4.4.1->widgetsnbextension~=3.6.0->ipywidgets->jmd_imagescraper) (4.2.0)\n",
            "Requirement already satisfied: jupyter-server>=1.8 in /usr/local/lib/python3.10/dist-packages (from nbclassic>=0.4.7->notebook>=4.4.1->widgetsnbextension~=3.6.0->ipywidgets->jmd_imagescraper) (1.24.0)\n",
            "Requirement already satisfied: notebook-shim>=0.2.3 in /usr/local/lib/python3.10/dist-packages (from nbclassic>=0.4.7->notebook>=4.4.1->widgetsnbextension~=3.6.0->ipywidgets->jmd_imagescraper) (0.2.4)\n",
            "Requirement already satisfied: lxml in /usr/local/lib/python3.10/dist-packages (from nbconvert>=5->notebook>=4.4.1->widgetsnbextension~=3.6.0->ipywidgets->jmd_imagescraper) (4.9.4)\n",
            "Requirement already satisfied: bleach in /usr/local/lib/python3.10/dist-packages (from nbconvert>=5->notebook>=4.4.1->widgetsnbextension~=3.6.0->ipywidgets->jmd_imagescraper) (6.1.0)\n",
            "Requirement already satisfied: defusedxml in /usr/local/lib/python3.10/dist-packages (from nbconvert>=5->notebook>=4.4.1->widgetsnbextension~=3.6.0->ipywidgets->jmd_imagescraper) (0.7.1)\n",
            "Requirement already satisfied: entrypoints>=0.2.2 in /usr/local/lib/python3.10/dist-packages (from nbconvert>=5->notebook>=4.4.1->widgetsnbextension~=3.6.0->ipywidgets->jmd_imagescraper) (0.4)\n",
            "Requirement already satisfied: jupyterlab-pygments in /usr/local/lib/python3.10/dist-packages (from nbconvert>=5->notebook>=4.4.1->widgetsnbextension~=3.6.0->ipywidgets->jmd_imagescraper) (0.3.0)\n",
            "Requirement already satisfied: MarkupSafe>=2.0 in /usr/local/lib/python3.10/dist-packages (from nbconvert>=5->notebook>=4.4.1->widgetsnbextension~=3.6.0->ipywidgets->jmd_imagescraper) (2.1.5)\n",
            "Requirement already satisfied: mistune<2,>=0.8.1 in /usr/local/lib/python3.10/dist-packages (from nbconvert>=5->notebook>=4.4.1->widgetsnbextension~=3.6.0->ipywidgets->jmd_imagescraper) (0.8.4)\n",
            "Requirement already satisfied: nbclient>=0.5.0 in /usr/local/lib/python3.10/dist-packages (from nbconvert>=5->notebook>=4.4.1->widgetsnbextension~=3.6.0->ipywidgets->jmd_imagescraper) (0.9.0)\n",
            "Requirement already satisfied: packaging in /usr/local/lib/python3.10/dist-packages (from nbconvert>=5->notebook>=4.4.1->widgetsnbextension~=3.6.0->ipywidgets->jmd_imagescraper) (23.2)\n",
            "Requirement already satisfied: pandocfilters>=1.4.1 in /usr/local/lib/python3.10/dist-packages (from nbconvert>=5->notebook>=4.4.1->widgetsnbextension~=3.6.0->ipywidgets->jmd_imagescraper) (1.5.1)\n",
            "Requirement already satisfied: tinycss2 in /usr/local/lib/python3.10/dist-packages (from nbconvert>=5->notebook>=4.4.1->widgetsnbextension~=3.6.0->ipywidgets->jmd_imagescraper) (1.2.1)\n",
            "Requirement already satisfied: fastjsonschema in /usr/local/lib/python3.10/dist-packages (from nbformat->notebook>=4.4.1->widgetsnbextension~=3.6.0->ipywidgets->jmd_imagescraper) (2.19.1)\n",
            "Requirement already satisfied: jsonschema>=2.6 in /usr/local/lib/python3.10/dist-packages (from nbformat->notebook>=4.4.1->widgetsnbextension~=3.6.0->ipywidgets->jmd_imagescraper) (4.19.2)\n",
            "Requirement already satisfied: argon2-cffi-bindings in /usr/local/lib/python3.10/dist-packages (from argon2-cffi->notebook>=4.4.1->widgetsnbextension~=3.6.0->ipywidgets->jmd_imagescraper) (21.2.0)\n",
            "Requirement already satisfied: attrs>=22.2.0 in /usr/local/lib/python3.10/dist-packages (from jsonschema>=2.6->nbformat->notebook>=4.4.1->widgetsnbextension~=3.6.0->ipywidgets->jmd_imagescraper) (23.2.0)\n",
            "Requirement already satisfied: jsonschema-specifications>=2023.03.6 in /usr/local/lib/python3.10/dist-packages (from jsonschema>=2.6->nbformat->notebook>=4.4.1->widgetsnbextension~=3.6.0->ipywidgets->jmd_imagescraper) (2023.12.1)\n",
            "Requirement already satisfied: referencing>=0.28.4 in /usr/local/lib/python3.10/dist-packages (from jsonschema>=2.6->nbformat->notebook>=4.4.1->widgetsnbextension~=3.6.0->ipywidgets->jmd_imagescraper) (0.33.0)\n",
            "Requirement already satisfied: rpds-py>=0.7.1 in /usr/local/lib/python3.10/dist-packages (from jsonschema>=2.6->nbformat->notebook>=4.4.1->widgetsnbextension~=3.6.0->ipywidgets->jmd_imagescraper) (0.18.0)\n",
            "Requirement already satisfied: anyio<4,>=3.1.0 in /usr/local/lib/python3.10/dist-packages (from jupyter-server>=1.8->nbclassic>=0.4.7->notebook>=4.4.1->widgetsnbextension~=3.6.0->ipywidgets->jmd_imagescraper) (3.7.1)\n",
            "Requirement already satisfied: websocket-client in /usr/local/lib/python3.10/dist-packages (from jupyter-server>=1.8->nbclassic>=0.4.7->notebook>=4.4.1->widgetsnbextension~=3.6.0->ipywidgets->jmd_imagescraper) (1.7.0)\n",
            "Requirement already satisfied: cffi>=1.0.1 in /usr/local/lib/python3.10/dist-packages (from argon2-cffi-bindings->argon2-cffi->notebook>=4.4.1->widgetsnbextension~=3.6.0->ipywidgets->jmd_imagescraper) (1.16.0)\n",
            "Requirement already satisfied: webencodings in /usr/local/lib/python3.10/dist-packages (from bleach->nbconvert>=5->notebook>=4.4.1->widgetsnbextension~=3.6.0->ipywidgets->jmd_imagescraper) (0.5.1)\n",
            "Requirement already satisfied: sniffio>=1.1 in /usr/local/lib/python3.10/dist-packages (from anyio<4,>=3.1.0->jupyter-server>=1.8->nbclassic>=0.4.7->notebook>=4.4.1->widgetsnbextension~=3.6.0->ipywidgets->jmd_imagescraper) (1.3.1)\n",
            "Requirement already satisfied: exceptiongroup in /usr/local/lib/python3.10/dist-packages (from anyio<4,>=3.1.0->jupyter-server>=1.8->nbclassic>=0.4.7->notebook>=4.4.1->widgetsnbextension~=3.6.0->ipywidgets->jmd_imagescraper) (1.2.0)\n",
            "Requirement already satisfied: pycparser in /usr/local/lib/python3.10/dist-packages (from cffi>=1.0.1->argon2-cffi-bindings->argon2-cffi->notebook>=4.4.1->widgetsnbextension~=3.6.0->ipywidgets->jmd_imagescraper) (2.21)\n",
            "Installing collected packages: jedi, bs4, jmd_imagescraper\n",
            "Successfully installed bs4-0.0.2 jedi-0.19.1 jmd_imagescraper-1.0.2\n"
          ]
        }
      ]
    },
    {
      "cell_type": "markdown",
      "source": [
        "**Take note that the syntax for installing the library will depend on the library itself.** If you check the link that was mentioned above, the documentation for this tool provides the command \"!pip install jmd_imagescraper\" for us to use.\n",
        "\n",
        "Take note that your editor might show some different results as this library was previously installed in my Google Colab instance. As long as there are no errors, you should be good to go."
      ],
      "metadata": {
        "id": "aMsSYdazPNCH"
      }
    },
    {
      "cell_type": "markdown",
      "source": [
        "**Our next step is to write the code that will collect the images for us.** Kindly go over the code below and run it after you have reviewed it, click run to download the images.\n",
        "\n",
        "**You can change the parameters to get different results.** For example, if you change the the \"fluffy cat\" parameter to \"happy dog\", then your crawler will instead collect pictures of happy dogs."
      ],
      "metadata": {
        "id": "yMZEChrVPusv"
      }
    },
    {
      "cell_type": "code",
      "source": [
        "from pathlib import Path\n",
        "root = Path.cwd()/\"images\"\n",
        "\n",
        "# The code below imports all the methods from our library\n",
        "from jmd_imagescraper.core import *\n",
        "\n",
        "# This code will download 30 images of \"fluffy cats\" and place them into our \"Cats\" folder\n",
        "duckduckgo_search(root, \"Cats\", \"fluffy cats\", max_results=30)"
      ],
      "metadata": {
        "colab": {
          "base_uri": "https://localhost:8080/",
          "height": 339
        },
        "id": "Vx-MSM6yPuc9",
        "outputId": "adfa19e6-6459-46ed-97aa-6869dabf6d94"
      },
      "execution_count": null,
      "outputs": [
        {
          "output_type": "stream",
          "name": "stdout",
          "text": [
            "Duckduckgo search: fluffy cats\n"
          ]
        },
        {
          "output_type": "error",
          "ename": "AssertionError",
          "evalue": "Failed to obtain search token",
          "traceback": [
            "\u001b[0;31m---------------------------------------------------------------------------\u001b[0m",
            "\u001b[0;31mAssertionError\u001b[0m                            Traceback (most recent call last)",
            "\u001b[0;32m<ipython-input-2-d238cf79f1c8>\u001b[0m in \u001b[0;36m<cell line: 8>\u001b[0;34m()\u001b[0m\n\u001b[1;32m      6\u001b[0m \u001b[0;34m\u001b[0m\u001b[0m\n\u001b[1;32m      7\u001b[0m \u001b[0;31m# This code will download 30 images of \"fluffy cats\" and place them into our \"Cats\" folder\u001b[0m\u001b[0;34m\u001b[0m\u001b[0;34m\u001b[0m\u001b[0m\n\u001b[0;32m----> 8\u001b[0;31m \u001b[0mduckduckgo_search\u001b[0m\u001b[0;34m(\u001b[0m\u001b[0mroot\u001b[0m\u001b[0;34m,\u001b[0m \u001b[0;34m\"Cats\"\u001b[0m\u001b[0;34m,\u001b[0m \u001b[0;34m\"fluffy cats\"\u001b[0m\u001b[0;34m,\u001b[0m \u001b[0mmax_results\u001b[0m\u001b[0;34m=\u001b[0m\u001b[0;36m30\u001b[0m\u001b[0;34m)\u001b[0m\u001b[0;34m\u001b[0m\u001b[0;34m\u001b[0m\u001b[0m\n\u001b[0m",
            "\u001b[0;32m/usr/local/lib/python3.10/dist-packages/jmd_imagescraper/core.py\u001b[0m in \u001b[0;36mduckduckgo_search\u001b[0;34m(path, label, keywords, max_results, img_size, img_type, img_layout, img_color, uuid_names)\u001b[0m\n\u001b[1;32m    209\u001b[0m \u001b[0;34m\u001b[0m\u001b[0m\n\u001b[1;32m    210\u001b[0m   \u001b[0mprint\u001b[0m\u001b[0;34m(\u001b[0m\u001b[0;34m\"Duckduckgo search:\"\u001b[0m\u001b[0;34m,\u001b[0m \u001b[0mkeywords\u001b[0m\u001b[0;34m)\u001b[0m\u001b[0;34m\u001b[0m\u001b[0;34m\u001b[0m\u001b[0m\n\u001b[0;32m--> 211\u001b[0;31m   \u001b[0mlinks\u001b[0m \u001b[0;34m=\u001b[0m \u001b[0mduckduckgo_scrape_urls\u001b[0m\u001b[0;34m(\u001b[0m\u001b[0mkeywords\u001b[0m\u001b[0;34m,\u001b[0m \u001b[0mmax_results\u001b[0m\u001b[0;34m,\u001b[0m \u001b[0mimg_size\u001b[0m\u001b[0;34m,\u001b[0m \u001b[0mimg_type\u001b[0m\u001b[0;34m,\u001b[0m \u001b[0mimg_layout\u001b[0m\u001b[0;34m,\u001b[0m \u001b[0mimg_color\u001b[0m\u001b[0;34m)\u001b[0m\u001b[0;34m\u001b[0m\u001b[0;34m\u001b[0m\u001b[0m\n\u001b[0m\u001b[1;32m    212\u001b[0m   \u001b[0;32mreturn\u001b[0m \u001b[0mdownload_urls\u001b[0m\u001b[0;34m(\u001b[0m\u001b[0mPath\u001b[0m\u001b[0;34m(\u001b[0m\u001b[0mpath\u001b[0m\u001b[0;34m)\u001b[0m\u001b[0;34m/\u001b[0m\u001b[0mlabel\u001b[0m\u001b[0;34m,\u001b[0m \u001b[0mlinks\u001b[0m\u001b[0;34m,\u001b[0m \u001b[0muuid_names\u001b[0m\u001b[0;34m=\u001b[0m\u001b[0muuid_names\u001b[0m\u001b[0;34m)\u001b[0m\u001b[0;34m\u001b[0m\u001b[0;34m\u001b[0m\u001b[0m\n\u001b[1;32m    213\u001b[0m \u001b[0;34m\u001b[0m\u001b[0m\n",
            "\u001b[0;32m/usr/local/lib/python3.10/dist-packages/jmd_imagescraper/core.py\u001b[0m in \u001b[0;36mduckduckgo_scrape_urls\u001b[0;34m(keywords, max_results, img_size, img_type, img_layout, img_color)\u001b[0m\n\u001b[1;32m     80\u001b[0m   \u001b[0mresp\u001b[0m \u001b[0;34m=\u001b[0m \u001b[0mrequests\u001b[0m\u001b[0;34m.\u001b[0m\u001b[0mpost\u001b[0m\u001b[0;34m(\u001b[0m\u001b[0mBASE_URL\u001b[0m\u001b[0;34m,\u001b[0m \u001b[0mdata\u001b[0m\u001b[0;34m=\u001b[0m\u001b[0mparams\u001b[0m\u001b[0;34m)\u001b[0m\u001b[0;34m\u001b[0m\u001b[0;34m\u001b[0m\u001b[0m\n\u001b[1;32m     81\u001b[0m   \u001b[0mmatch\u001b[0m \u001b[0;34m=\u001b[0m \u001b[0mre\u001b[0m\u001b[0;34m.\u001b[0m\u001b[0msearch\u001b[0m\u001b[0;34m(\u001b[0m\u001b[0;34mr'vqd=([\\d-]+)\\&'\u001b[0m\u001b[0;34m,\u001b[0m \u001b[0mresp\u001b[0m\u001b[0;34m.\u001b[0m\u001b[0mtext\u001b[0m\u001b[0;34m,\u001b[0m \u001b[0mre\u001b[0m\u001b[0;34m.\u001b[0m\u001b[0mM\u001b[0m\u001b[0;34m|\u001b[0m\u001b[0mre\u001b[0m\u001b[0;34m.\u001b[0m\u001b[0mI\u001b[0m\u001b[0;34m)\u001b[0m\u001b[0;34m\u001b[0m\u001b[0;34m\u001b[0m\u001b[0m\n\u001b[0;32m---> 82\u001b[0;31m   \u001b[0;32massert\u001b[0m \u001b[0mmatch\u001b[0m \u001b[0;32mis\u001b[0m \u001b[0;32mnot\u001b[0m \u001b[0;32mNone\u001b[0m\u001b[0;34m,\u001b[0m \u001b[0;34m\"Failed to obtain search token\"\u001b[0m\u001b[0;34m\u001b[0m\u001b[0;34m\u001b[0m\u001b[0m\n\u001b[0m\u001b[1;32m     83\u001b[0m \u001b[0;34m\u001b[0m\u001b[0m\n\u001b[1;32m     84\u001b[0m   HEADERS = {\n",
            "\u001b[0;31mAssertionError\u001b[0m: Failed to obtain search token"
          ]
        }
      ]
    },
    {
      "cell_type": "markdown",
      "source": [
        "Now, you may be thinking that our images went nowhere since a file was not downloaded by our browser. This is not the case, the images have instead been downloaded into colab as part of this file. **If you click the small folder icon of the left hand side of the screen, you can see folders that have been created for this session and the images we have downloaded so far.** This is where the \"Cats\" folder was created along with where the images were stored.\n",
        "\n",
        "![Screenshot 2023-01-19 222830.png](data:image/png;base64,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)\n",
        "\n",
        "These images are stored while our runtime for colab is active, and are removed when our runtime expires, so don't worry about it taking up your personal Google Drive space."
      ],
      "metadata": {
        "id": "TkU9biiDRY6W"
      }
    },
    {
      "cell_type": "markdown",
      "source": [
        "**Our next step is to create a zip file and download the images.** We can then inspect them, save them or use them for data mining.\n",
        "\n",
        "We will write two snippets of code, one to create a zip file of our images, and another to download the zip file itself."
      ],
      "metadata": {
        "id": "GcRFIIiDSU3x"
      }
    },
    {
      "cell_type": "code",
      "source": [
        "# This is the name of the zip file that will be downloaded.\n",
        "ZIP_NAME = \"image_set.zip\"\n",
        "\n",
        "# These commands tell colab to place all the content in our \"Files\" on the left hand side into the zip file.\n",
        "# It then stores the zip file in the \"Files\" for later use.\n",
        "# Take note that this ignores the \"sample_data\" folder since that is automatically generated by colab.\n",
        "!rm -f {ZIP_NAME}\n",
        "!zip -q -r {ZIP_NAME} {root}"
      ],
      "metadata": {
        "id": "3ItPurAFRYlw"
      },
      "execution_count": null,
      "outputs": []
    },
    {
      "cell_type": "markdown",
      "source": [
        "**Our last step is to download the images.** We simply tell colab we want to download the zip file now with the code below."
      ],
      "metadata": {
        "id": "ygfE_OMmTKUH"
      }
    },
    {
      "cell_type": "code",
      "source": [
        "# This code takes the zip file and downloads it.\n",
        "from google.colab import files\n",
        "files.download(ZIP_NAME)"
      ],
      "metadata": {
        "colab": {
          "base_uri": "https://localhost:8080/",
          "height": 17
        },
        "id": "IwjQnBLVTJdb",
        "outputId": "870e17fc-ea68-492b-89ef-84c69a3b95a4"
      },
      "execution_count": null,
      "outputs": [
        {
          "output_type": "display_data",
          "data": {
            "text/plain": [
              "<IPython.core.display.Javascript object>"
            ],
            "application/javascript": [
              "\n",
              "    async function download(id, filename, size) {\n",
              "      if (!google.colab.kernel.accessAllowed) {\n",
              "        return;\n",
              "      }\n",
              "      const div = document.createElement('div');\n",
              "      const label = document.createElement('label');\n",
              "      label.textContent = `Downloading \"${filename}\": `;\n",
              "      div.appendChild(label);\n",
              "      const progress = document.createElement('progress');\n",
              "      progress.max = size;\n",
              "      div.appendChild(progress);\n",
              "      document.body.appendChild(div);\n",
              "\n",
              "      const buffers = [];\n",
              "      let downloaded = 0;\n",
              "\n",
              "      const channel = await google.colab.kernel.comms.open(id);\n",
              "      // Send a message to notify the kernel that we're ready.\n",
              "      channel.send({})\n",
              "\n",
              "      for await (const message of channel.messages) {\n",
              "        // Send a message to notify the kernel that we're ready.\n",
              "        channel.send({})\n",
              "        if (message.buffers) {\n",
              "          for (const buffer of message.buffers) {\n",
              "            buffers.push(buffer);\n",
              "            downloaded += buffer.byteLength;\n",
              "            progress.value = downloaded;\n",
              "          }\n",
              "        }\n",
              "      }\n",
              "      const blob = new Blob(buffers, {type: 'application/binary'});\n",
              "      const a = document.createElement('a');\n",
              "      a.href = window.URL.createObjectURL(blob);\n",
              "      a.download = filename;\n",
              "      div.appendChild(a);\n",
              "      a.click();\n",
              "      div.remove();\n",
              "    }\n",
              "  "
            ]
          },
          "metadata": {}
        },
        {
          "output_type": "display_data",
          "data": {
            "text/plain": [
              "<IPython.core.display.Javascript object>"
            ],
            "application/javascript": [
              "download(\"download_0b4efea7-b8bc-49ea-be4b-5d49770ba84b\", \"image_set.zip\", 977212)"
            ]
          },
          "metadata": {}
        }
      ]
    },
    {
      "cell_type": "markdown",
      "source": [
        "**And there we go! You have succesfully created an image crawler using Google Colab.** The next step is to try changing the parameters or crawling for more images. You can also check the documentation for the library to see if there are additional features you might want to use."
      ],
      "metadata": {
        "id": "UkptwWsAThbV"
      }
    }
  ]
}